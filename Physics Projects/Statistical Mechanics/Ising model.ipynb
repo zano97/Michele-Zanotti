{
 "cells": [
  {
   "cell_type": "markdown",
   "id": "53b0aa68",
   "metadata": {},
   "source": [
    "# Ising model with Monte Carlo simulation\n",
    "##The Metropolis algorithm"
   ]
  },
  {
   "cell_type": "code",
   "execution_count": 1,
   "id": "b16253ff",
   "metadata": {},
   "outputs": [
    {
     "name": "stderr",
     "output_type": "stream",
     "text": [
      "Installing c:\\users\\miky2\\appdata\\local\\programs\\python\\python39\\lib\\site-packages\\widgetsnbextension\\static -> jupyter-js-widgets\n",
      "Up to date: C:\\Users\\miky2\\AppData\\Roaming\\jupyter\\nbextensions\\jupyter-js-widgets\\extension.js\n",
      "Up to date: C:\\Users\\miky2\\AppData\\Roaming\\jupyter\\nbextensions\\jupyter-js-widgets\\extension.js.map\n",
      "- Validating: ok\n",
      "\n",
      "    To initialize this nbextension in the browser every time the notebook (or other app) loads:\n",
      "    \n",
      "          jupyter nbextension enable widgetsnbextension --user --py\n",
      "    \n",
      "Enabling notebook extension jupyter-js-widgets/extension...\n",
      "      - Validating: ok\n"
     ]
    }
   ],
   "source": [
    "import sys\n",
    "!{sys.executable} -m jupyter nbextension install --user --py widgetsnbextension\n",
    "!{sys.executable} -m  jupyter nbextension enable widgetsnbextension --user --py"
   ]
  },
  {
   "cell_type": "code",
   "execution_count": 2,
   "id": "685125db",
   "metadata": {},
   "outputs": [
    {
     "data": {
      "text/plain": [
       "array([[ 1,  1,  1, -1, -1, -1, -1,  1, -1,  1],\n",
       "       [-1, -1,  1,  1, -1, -1,  1,  1, -1, -1],\n",
       "       [-1, -1, -1, -1, -1, -1,  1, -1, -1,  1],\n",
       "       [ 1,  1,  1,  1, -1, -1, -1,  1,  1,  1],\n",
       "       [-1, -1,  1, -1, -1,  1, -1,  1, -1, -1],\n",
       "       [ 1,  1,  1, -1, -1,  1, -1,  1,  1,  1],\n",
       "       [ 1, -1,  1,  1, -1, -1, -1, -1,  1, -1],\n",
       "       [ 1, -1, -1, -1,  1,  1, -1,  1, -1,  1],\n",
       "       [ 1, -1, -1,  1, -1,  1, -1, -1, -1, -1],\n",
       "       [ 1, -1,  1,  1,  1, -1,  1,  1,  1,  1]])"
      ]
     },
     "execution_count": 2,
     "metadata": {},
     "output_type": "execute_result"
    }
   ],
   "source": [
    "import numpy as np\n",
    "\n",
    "def random_spins(N, M):\n",
    "    return np.random.choice([-1, 1], size = (N, M))\n",
    "\n",
    "random_spins(10, 10)"
   ]
  },
  {
   "cell_type": "code",
   "execution_count": 3,
   "id": "84bafe6d",
   "metadata": {},
   "outputs": [
    {
     "data": {
      "image/png": "[encoded data removed]",
      "text/plain": [
       "<PIL.Image.Image image mode=L size=200x200 at 0x1A6A5A0D9A0>"
      ]
     },
     "execution_count": 3,
     "metadata": {},
     "output_type": "execute_result"
    }
   ],
   "source": [
    "from PIL import Image \n",
    "\n",
    "def display_spins(field):\n",
    "    return Image.fromarray(np.uint8((field+1)*0.5*255))\n",
    "\n",
    "display_spins(random_spins(200, 200))"
   ]
  },
  {
   "cell_type": "code",
   "execution_count": 23,
   "id": "e63e3cde",
   "metadata": {},
   "outputs": [],
   "source": [
    "def ising_step(field, beta=0.4):\n",
    "    N,M=field.shape\n",
    "    for n_offset in range(2):\n",
    "        for m_offset in range(2):\n",
    "            for n in range(n_offset, N, 2):\n",
    "                for m in range(m_offset, M, 2):\n",
    "                    ising_update(field, n, m, beta)\n",
    "    return field\n",
    "\n",
    "def ising_update(field, n, m, beta):\n",
    "    N,M = field.shape\n",
    "    total = 0\n",
    "    for i in range(n-1, n+2):\n",
    "        for j in range(m-1, m+2):\n",
    "            if i == n and j == m:\n",
    "                continue\n",
    "            total += field[i%N, j%M]\n",
    "    dE = 2 * field[n, m] * total\n",
    "    if dE <= 0:\n",
    "        field[n, m] *= -1\n",
    "    elif np.exp(-dE * beta) > np.random.rand():\n",
    "        field[n, m] *= -1"
   ]
  },
  {
   "cell_type": "code",
   "execution_count": 5,
   "id": "23c791f6",
   "metadata": {},
   "outputs": [
    {
     "name": "stdout",
     "output_type": "stream",
     "text": [
      "Wall time: 260 ms\n"
     ]
    },
    {
     "data": {
      "image/png": "[encoded data removed]",
      "text/plain": [
       "<PIL.Image.Image image mode=L size=200x200 at 0x1A69F4EF610>"
      ]
     },
     "execution_count": 5,
     "metadata": {},
     "output_type": "execute_result"
    }
   ],
   "source": [
    "%time display_spins(ising_step(random_spins(200, 200)))\n"
   ]
  },
  {
   "cell_type": "code",
   "execution_count": 6,
   "id": "cdba97af",
   "metadata": {},
   "outputs": [],
   "source": [
    "from ipywidgets import interact\n",
    "\n",
    "\n",
    "def animate(images):\n",
    "    def mostra(frame=(0,len(images)-1)):\n",
    "        return display_spins(images[frame])\n",
    "    return interact(mostra)"
   ]
  },
  {
   "cell_type": "code",
   "execution_count": 24,
   "id": "e7f07aa0",
   "metadata": {
    "scrolled": true
   },
   "outputs": [
    {
     "data": {
      "application/vnd.jupyter.widget-view+json": {
       "model_id": "87b2d755e74a4f329d6e167709353821",
       "version_major": 2,
       "version_minor": 0
      },
      "text/plain": [
       "interactive(children=(IntSlider(value=25, description='frame', max=50), Output()), _dom_classes=('widget-inter…"
      ]
     },
     "metadata": {},
     "output_type": "display_data"
    },
    {
     "data": {
      "text/plain": [
       "<function __main__.animate.<locals>.mostra(frame=(0, 50))>"
      ]
     },
     "execution_count": 24,
     "metadata": {},
     "output_type": "execute_result"
    }
   ],
   "source": [
    "images = [random_spins(200, 200)]\n",
    "for i in range(50):\n",
    "    images.append(ising_step(images[-1].copy()))\n",
    "animate(images)"
   ]
  },
  {
   "cell_type": "markdown",
   "id": "ee5a4719",
   "metadata": {},
   "source": [
    "Since is very slow i try to improve the speed"
   ]
  },
  {
   "cell_type": "code",
   "execution_count": 26,
   "id": "95cc0200",
   "metadata": {},
   "outputs": [
    {
     "name": "stdout",
     "output_type": "stream",
     "text": [
      "The cython extension is already loaded. To reload it, use:\n",
      "  %reload_ext cython\n"
     ]
    }
   ],
   "source": [
    "%load_ext cython"
   ]
  },
  {
   "cell_type": "code",
   "execution_count": 35,
   "id": "4331d49b",
   "metadata": {},
   "outputs": [],
   "source": [
    "%%cython\n",
    "\n",
    "import numpy as np\n",
    "cimport numpy as np\n",
    "\n",
    "from libc.math cimport exp\n",
    "from libc.stdlib cimport rand\n",
    "cdef extern from \"limits.h\":\n",
    "    int RAND_MAX\n",
    "\n",
    "\n",
    "def cy_ising_step(long[:, :] field, float beta=0.4):\n",
    "    cdef int N = field.shape[0]\n",
    "    cdef int M = field.shape[1]\n",
    "    cdef int n_offset, m_offset, n, m\n",
    "    for n_offset in range(2):\n",
    "        for m_offset in range(2):\n",
    "            for n in range(n_offset, N, 2):\n",
    "                for m in range(m_offset, M, 2):\n",
    "                    cy_ising_update(field, n, m, beta)\n",
    "    return np.array(field)\n",
    "\n",
    "\n",
    "cdef cy_ising_update(long[:, :] field, int n, int m, float beta):\n",
    "    cdef int total = 0\n",
    "    cdef int N = field.shape[0]\n",
    "    cdef int M = field.shape[1]\n",
    "    cdef int i, j\n",
    "    for i in range(n-1, n+2):\n",
    "        for j in range(m-1, m+2):\n",
    "            if i == n and j == m:\n",
    "                continue\n",
    "            total += field[i % N, j % M]\n",
    "    cdef float dE = 2 * field[n, m] * total\n",
    "    if dE <= 0:\n",
    "        field[n, m] *= -1\n",
    "    elif exp(-dE * beta) * RAND_MAX > rand():\n",
    "        field[n, m] *= -1"
   ]
  },
  {
   "cell_type": "code",
   "execution_count": 36,
   "id": "0429e84b",
   "metadata": {},
   "outputs": [
    {
     "name": "stdout",
     "output_type": "stream",
     "text": [
      "374 ms ± 28.7 ms per loop (mean ± std. dev. of 7 runs, 1 loop each)\n",
      "4.49 ms ± 49.4 µs per loop (mean ± std. dev. of 7 runs, 100 loops each)\n"
     ]
    }
   ],
   "source": [
    "field = random_spins(200,200)\n",
    "%timeit ising_step(field)\n",
    "%timeit cy_ising_step(field)"
   ]
  },
  {
   "cell_type": "code",
   "execution_count": 38,
   "id": "127366ac",
   "metadata": {},
   "outputs": [
    {
     "data": {
      "application/vnd.jupyter.widget-view+json": {
       "model_id": "feb41fae6e3f4273bcdcb3bc0c2b28b1",
       "version_major": 2,
       "version_minor": 0
      },
      "text/plain": [
       "interactive(children=(IntSlider(value=500, description='frame', max=1000), Output()), _dom_classes=('widget-in…"
      ]
     },
     "metadata": {},
     "output_type": "display_data"
    },
    {
     "data": {
      "text/plain": [
       "<function __main__.animate.<locals>.mostra(frame=(0, 1000))>"
      ]
     },
     "execution_count": 38,
     "metadata": {},
     "output_type": "execute_result"
    }
   ],
   "source": [
    "images = [random_spins(500, 500)]\n",
    "for i in range(1000):\n",
    "    images.append(cy_ising_step(images[-1].copy(), beta=0.4))\n",
    "animate(images)"
   ]
  }
 ],
 "metadata": {
  "kernelspec": {
   "display_name": "Python 3",
   "language": "python",
   "name": "python3"
  },
  "language_info": {
   "codemirror_mode": {
    "name": "ipython",
    "version": 3
   },
   "file_extension": ".py",
   "mimetype": "text/x-python",
   "name": "python",
   "nbconvert_exporter": "python",
   "pygments_lexer": "ipython3",
   "version": "3.9.0"
  }
 },
 "nbformat": 4,
 "nbformat_minor": 5
}
